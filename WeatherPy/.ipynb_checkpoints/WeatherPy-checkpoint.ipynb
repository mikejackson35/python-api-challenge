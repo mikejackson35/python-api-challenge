{
 "cells": [
  {
   "cell_type": "markdown",
   "metadata": {},
   "source": [
    "# WeatherPy\n",
    "----\n",
    "\n",
    "#### Note\n",
    "* Instructions have been included for each segment. You do not have to follow them exactly, but they are included to help you think through the steps."
   ]
  },
  {
   "cell_type": "code",
   "execution_count": 1,
   "metadata": {
    "scrolled": true
   },
   "outputs": [],
   "source": [
    "# Dependencies and Setup\n",
    "import matplotlib.pyplot as plt\n",
    "import pandas as pd\n",
    "import numpy as np\n",
    "import requests\n",
    "import time\n",
    "from scipy.stats import linregress\n",
    "\n",
    "# Import API key\n",
    "from api_keys import weather_api_key\n",
    "\n",
    "# Incorporated citipy to determine city based on latitude and longitude\n",
    "from citipy import citipy\n",
    "\n",
    "# Output File (CSV)\n",
    "output_data_file = \"output_data/cities.csv\"\n",
    "\n",
    "# Range of latitudes and longitudes\n",
    "lat_range = (-90, 90)\n",
    "lng_range = (-180, 180)"
   ]
  },
  {
   "cell_type": "markdown",
   "metadata": {},
   "source": [
    "## Generate Cities List"
   ]
  },
  {
   "cell_type": "code",
   "execution_count": 2,
   "metadata": {
    "scrolled": true
   },
   "outputs": [
    {
     "data": {
      "text/plain": [
       "608"
      ]
     },
     "execution_count": 2,
     "metadata": {},
     "output_type": "execute_result"
    }
   ],
   "source": [
    "# List for holding lat_lngs and cities\n",
    "lat_lngs = []\n",
    "cities = []\n",
    "\n",
    "# Create a set of random lat and lng combinations\n",
    "lats = np.random.uniform(lat_range[0], lat_range[1], size=1500)\n",
    "lngs = np.random.uniform(lng_range[0], lng_range[1], size=1500)\n",
    "lat_lngs = zip(lats, lngs)\n",
    "\n",
    "# Identify nearest city for each lat, lng combination\n",
    "for lat_lng in lat_lngs:\n",
    "    city = citipy.nearest_city(lat_lng[0], lat_lng[1]).city_name\n",
    "    \n",
    "    # If the city is unique, then add it to a our cities list\n",
    "    if city not in cities:\n",
    "        cities.append(city)\n",
    "\n",
    "# Print the city count to confirm sufficient count\n",
    "len(cities)"
   ]
  },
  {
   "cell_type": "markdown",
   "metadata": {},
   "source": [
    "### Perform API Calls\n",
    "* Perform a weather check on each city using a series of successive API calls.\n",
    "* Include a print log of each city as it'sbeing processed (with the city number and city name).\n",
    "\n",
    "> **HINT:** The OpenWeatherMap API only allows 60 calls per minute under their free plan. Try using `time.sleep(60)` after each set of 50 cities to avoid API errors due to large calls."
   ]
  },
  {
   "cell_type": "code",
   "execution_count": 3,
   "metadata": {},
   "outputs": [
    {
     "data": {
      "text/plain": [
       "{'coord': {'lon': 2.3488, 'lat': 48.8534},\n",
       " 'weather': [{'id': 500,\n",
       "   'main': 'Rain',\n",
       "   'description': 'light rain',\n",
       "   'icon': '10n'}],\n",
       " 'base': 'stations',\n",
       " 'main': {'temp': 54.68,\n",
       "  'feels_like': 54.12,\n",
       "  'temp_min': 50.25,\n",
       "  'temp_max': 56.77,\n",
       "  'pressure': 1014,\n",
       "  'humidity': 91},\n",
       " 'visibility': 8000,\n",
       " 'wind': {'speed': 3.44, 'deg': 220},\n",
       " 'rain': {'1h': 0.24},\n",
       " 'clouds': {'all': 0},\n",
       " 'dt': 1649821808,\n",
       " 'sys': {'type': 2,\n",
       "  'id': 2012208,\n",
       "  'country': 'FR',\n",
       "  'sunrise': 1649826230,\n",
       "  'sunset': 1649875083},\n",
       " 'timezone': 7200,\n",
       " 'id': 2988507,\n",
       " 'name': 'Paris',\n",
       " 'cod': 200}"
      ]
     },
     "execution_count": 3,
     "metadata": {},
     "output_type": "execute_result"
    }
   ],
   "source": [
    "url = \"http://api.openweathermap.org/data/2.5/weather?\"\n",
    "units = \"imperial\"\n",
    "\n",
    "query_url = f\"{url}appid={weather_api_key}&q=Paris&units={units}\"\n",
    "weather_response = requests.get(query_url).json()\n",
    "weather_response"
   ]
  },
  {
   "cell_type": "code",
   "execution_count": 4,
   "metadata": {
    "scrolled": true
   },
   "outputs": [
    {
     "name": "stdout",
     "output_type": "stream",
     "text": [
      "Processing Record for: meulaboh\n",
      "Processing Record for: vacaville\n",
      "Processing Record for: beloha\n",
      "Processing Record for: rio gallegos\n",
      "Processing Record for: busselton\n",
      "Processing Record for: qaanaaq\n",
      "Processing Record for: davidson\n",
      "Processing Record for: krasnoselkup\n",
      "Processing Record for: beringovskiy\n",
      "Processing Record for: rikitea\n",
      "Processing Record for: bambanglipuro\n",
      "Processing Record for: kankakee\n",
      "Processing Record for: barbar\n",
      "Could not find: barbar\n",
      "Processing Record for: new norfolk\n",
      "Processing Record for: beira\n",
      "Processing Record for: eureka\n",
      "Processing Record for: vreed en hoop\n",
      "Could not find: vreed en hoop\n",
      "Processing Record for: ponta do sol\n",
      "Processing Record for: castro\n",
      "Processing Record for: bluff\n",
      "Processing Record for: puerto ayora\n",
      "Processing Record for: bethel\n",
      "Processing Record for: port alfred\n",
      "Processing Record for: taolanaro\n",
      "Could not find: taolanaro\n",
      "Processing Record for: jamestown\n",
      "Processing Record for: homer\n",
      "Processing Record for: alta floresta\n",
      "Processing Record for: helong\n",
      "Processing Record for: saleaula\n",
      "Could not find: saleaula\n",
      "Processing Record for: altay\n",
      "Processing Record for: airai\n",
      "Processing Record for: monchegorsk\n",
      "Processing Record for: piacabucu\n",
      "Processing Record for: horsham\n",
      "Processing Record for: kerema\n",
      "Processing Record for: alice springs\n",
      "Processing Record for: gigmoto\n",
      "Processing Record for: mataura\n",
      "Processing Record for: atar\n",
      "Processing Record for: esperance\n",
      "Processing Record for: punta arenas\n",
      "Processing Record for: ushuaia\n",
      "Processing Record for: dikson\n",
      "Processing Record for: alnashi\n",
      "Processing Record for: butaritari\n",
      "Processing Record for: stornoway\n",
      "Processing Record for: barrow\n",
      "Processing Record for: carutapera\n",
      "Processing Record for: hithadhoo\n",
      "Processing Record for: tuktoyaktuk\n",
      "Processing Record for: avarua\n",
      "Processing Record for: quelimane\n",
      "Processing Record for: bredasdorp\n",
      "Processing Record for: east london\n",
      "Processing Record for: brae\n",
      "Processing Record for: miyako\n",
      "Processing Record for: chapais\n",
      "Processing Record for: sao filipe\n",
      "Processing Record for: kapaa\n",
      "Processing Record for: chuy\n",
      "Processing Record for: nizhneyansk\n",
      "Could not find: nizhneyansk\n",
      "Processing Record for: naze\n",
      "Processing Record for: kastrakion\n",
      "Processing Record for: aitape\n",
      "Processing Record for: te anau\n",
      "Processing Record for: suntar\n",
      "Processing Record for: asau\n",
      "Processing Record for: jonesboro\n",
      "Processing Record for: pantai remis\n",
      "Processing Record for: padang\n",
      "Processing Record for: hilo\n",
      "Processing Record for: atuona\n",
      "Processing Record for: smirnykh\n",
      "Processing Record for: vostok\n",
      "Processing Record for: ixtapa\n",
      "Processing Record for: cherskiy\n",
      "Processing Record for: barbastro\n",
      "Processing Record for: tuatapere\n",
      "Processing Record for: port-gentil\n",
      "Processing Record for: madang\n",
      "Processing Record for: nouakchott\n",
      "Processing Record for: lebu\n",
      "Processing Record for: tura\n",
      "Processing Record for: walvis bay\n",
      "Processing Record for: colares\n",
      "Processing Record for: zhigansk\n",
      "Processing Record for: hermanus\n",
      "Processing Record for: boyolangu\n",
      "Processing Record for: thompson\n",
      "Processing Record for: samusu\n",
      "Could not find: samusu\n",
      "Processing Record for: albany\n",
      "Processing Record for: upernavik\n",
      "Processing Record for: adrar\n",
      "Processing Record for: fort nelson\n",
      "Processing Record for: khatanga\n",
      "Processing Record for: alofi\n",
      "Processing Record for: tabatinga\n",
      "Processing Record for: mar del plata\n",
      "Processing Record for: vardo\n",
      "Processing Record for: matara\n",
      "Processing Record for: grindavik\n",
      "Processing Record for: douglasville\n",
      "Processing Record for: san lorenzo\n",
      "Processing Record for: saskylakh\n",
      "Processing Record for: ilawe\n",
      "Processing Record for: ribeira grande\n",
      "Processing Record for: vila franca do campo\n",
      "Processing Record for: cabo san lucas\n",
      "Processing Record for: tarutyne\n",
      "Processing Record for: huilong\n",
      "Processing Record for: mount isa\n",
      "Processing Record for: victoria\n",
      "Processing Record for: qeshm\n",
      "Processing Record for: oranjemund\n",
      "Processing Record for: la ronge\n",
      "Processing Record for: yellowknife\n",
      "Processing Record for: saint-philippe\n",
      "Processing Record for: changqing\n",
      "Processing Record for: kieta\n",
      "Processing Record for: cidreira\n",
      "Processing Record for: arraial do cabo\n",
      "Processing Record for: provideniya\n",
      "Processing Record for: san patricio\n",
      "Processing Record for: nikolskoye\n",
      "Processing Record for: dawlatabad\n",
      "Processing Record for: temaraia\n",
      "Could not find: temaraia\n",
      "Processing Record for: barentsburg\n",
      "Could not find: barentsburg\n",
      "Processing Record for: palmer\n",
      "Processing Record for: bambous virieux\n",
      "Processing Record for: plover\n",
      "Processing Record for: poum\n",
      "Processing Record for: faanui\n",
      "Processing Record for: lagoa\n",
      "Processing Record for: namatanai\n",
      "Processing Record for: mackenzie\n",
      "Processing Record for: carnarvon\n",
      "Processing Record for: paamiut\n",
      "Processing Record for: geraldton\n",
      "Processing Record for: lodja\n",
      "Processing Record for: tsihombe\n",
      "Could not find: tsihombe\n",
      "Processing Record for: chokurdakh\n",
      "Processing Record for: the valley\n",
      "Processing Record for: san antonio\n",
      "Processing Record for: kuche\n",
      "Could not find: kuche\n",
      "Processing Record for: port macquarie\n",
      "Processing Record for: sur\n",
      "Processing Record for: innisfail\n",
      "Processing Record for: husavik\n",
      "Processing Record for: tyup\n",
      "Processing Record for: illoqqortoormiut\n",
      "Could not find: illoqqortoormiut\n",
      "Processing Record for: rawson\n",
      "Processing Record for: sol-iletsk\n",
      "Processing Record for: pochutla\n",
      "Processing Record for: garissa\n",
      "Processing Record for: vaitupu\n",
      "Could not find: vaitupu\n",
      "Processing Record for: la palma\n",
      "Processing Record for: mkushi\n",
      "Processing Record for: qaqortoq\n",
      "Processing Record for: georgetown\n",
      "Processing Record for: san carlos de bariloche\n",
      "Processing Record for: port elizabeth\n",
      "Processing Record for: yakshur-bodya\n",
      "Could not find: yakshur-bodya\n",
      "Processing Record for: cape town\n",
      "Processing Record for: norman wells\n",
      "Processing Record for: luderitz\n",
      "Processing Record for: coquimbo\n",
      "Processing Record for: bundaberg\n",
      "Processing Record for: vaini\n",
      "Processing Record for: edmonton\n",
      "Processing Record for: ancud\n",
      "Processing Record for: plettenberg bay\n",
      "Processing Record for: port lincoln\n",
      "Processing Record for: ostrovnoy\n",
      "Processing Record for: sterling\n",
      "Processing Record for: mundo nuevo\n",
      "Processing Record for: wakkanai\n",
      "Processing Record for: mahbubabad\n",
      "Processing Record for: saquena\n",
      "Processing Record for: bajil\n",
      "Processing Record for: yulara\n",
      "Processing Record for: eldama ravine\n",
      "Processing Record for: sweetwater\n",
      "Processing Record for: marcona\n",
      "Could not find: marcona\n",
      "Processing Record for: lashio\n",
      "Processing Record for: hobart\n",
      "Processing Record for: mitchell\n",
      "Processing Record for: sovetskiy\n",
      "Processing Record for: palabuhanratu\n",
      "Could not find: palabuhanratu\n",
      "Processing Record for: baherden\n",
      "Processing Record for: cayenne\n",
      "Processing Record for: maungaturoto\n",
      "Processing Record for: rawlins\n",
      "Processing Record for: batticaloa\n",
      "Processing Record for: urumqi\n",
      "Processing Record for: quesnel\n",
      "Processing Record for: vestmannaeyjar\n",
      "Processing Record for: fortuna\n",
      "Processing Record for: vila velha\n",
      "Processing Record for: tabiauea\n",
      "Could not find: tabiauea\n",
      "Processing Record for: devonport\n",
      "Processing Record for: tsumeb\n",
      "Processing Record for: juliaca\n",
      "Processing Record for: west wendover\n",
      "Processing Record for: athabasca\n",
      "Processing Record for: san juan\n",
      "Processing Record for: iqaluit\n",
      "Processing Record for: karauzyak\n",
      "Could not find: karauzyak\n",
      "Processing Record for: puri\n",
      "Processing Record for: nelson bay\n",
      "Processing Record for: grand river south east\n",
      "Could not find: grand river south east\n",
      "Processing Record for: balykshi\n",
      "Processing Record for: ndola\n",
      "Processing Record for: khash\n",
      "Processing Record for: bilibino\n",
      "Processing Record for: pandan\n",
      "Processing Record for: antiguo morelos\n",
      "Processing Record for: caravelas\n",
      "Processing Record for: kismayo\n",
      "Processing Record for: eyl\n",
      "Processing Record for: karamay\n",
      "Could not find: karamay\n",
      "Processing Record for: auki\n",
      "Processing Record for: kungurtug\n",
      "Processing Record for: eyrarbakki\n",
      "Processing Record for: nome\n",
      "Processing Record for: san quintin\n",
      "Processing Record for: burica\n",
      "Could not find: burica\n",
      "Processing Record for: soyo\n",
      "Processing Record for: kruisfontein\n",
      "Processing Record for: aksu\n",
      "Processing Record for: ojinaga\n",
      "Processing Record for: kautokeino\n",
      "Processing Record for: ampanihy\n",
      "Processing Record for: sitka\n",
      "Processing Record for: louisbourg\n",
      "Could not find: louisbourg\n",
      "Processing Record for: nieuw amsterdam\n",
      "Processing Record for: athgarh\n",
      "Could not find: athgarh\n"
     ]
    },
    {
     "name": "stdout",
     "output_type": "stream",
     "text": [
      "Processing Record for: northampton\n",
      "Processing Record for: lamar\n",
      "Processing Record for: vao\n",
      "Processing Record for: tasiilaq\n",
      "Processing Record for: abu dhabi\n",
      "Processing Record for: benghazi\n",
      "Processing Record for: gasa\n",
      "Processing Record for: lancaster\n",
      "Processing Record for: launceston\n",
      "Processing Record for: kodiak\n",
      "Processing Record for: svetlogorsk\n",
      "Processing Record for: coahuayana\n",
      "Processing Record for: alamosa\n",
      "Processing Record for: chara\n",
      "Processing Record for: shingu\n",
      "Processing Record for: katsuura\n",
      "Processing Record for: narsaq\n",
      "Processing Record for: glasgow\n",
      "Processing Record for: nylstroom\n",
      "Could not find: nylstroom\n",
      "Processing Record for: mys shmidta\n",
      "Could not find: mys shmidta\n",
      "Processing Record for: madhogarh\n",
      "Processing Record for: sentyabrskiy\n",
      "Could not find: sentyabrskiy\n",
      "Processing Record for: batemans bay\n",
      "Processing Record for: labuhan\n",
      "Processing Record for: mayumba\n",
      "Processing Record for: port hedland\n",
      "Processing Record for: bandarbeyla\n",
      "Processing Record for: abu samrah\n",
      "Processing Record for: bathsheba\n",
      "Processing Record for: solnechnyy\n",
      "Processing Record for: arnsberg\n",
      "Processing Record for: sartell\n",
      "Processing Record for: waingapu\n",
      "Processing Record for: marzuq\n",
      "Processing Record for: zhuozhou\n",
      "Could not find: zhuozhou\n",
      "Processing Record for: ksenyevka\n",
      "Could not find: ksenyevka\n",
      "Processing Record for: kavieng\n",
      "Processing Record for: deputatskiy\n",
      "Processing Record for: evensk\n",
      "Processing Record for: cap malheureux\n",
      "Processing Record for: korla\n",
      "Processing Record for: turkistan\n",
      "Processing Record for: hofn\n",
      "Processing Record for: dunedin\n",
      "Processing Record for: muhos\n",
      "Processing Record for: majene\n",
      "Processing Record for: dingle\n",
      "Processing Record for: almaznyy\n",
      "Processing Record for: goure\n",
      "Processing Record for: nkhotakota\n",
      "Processing Record for: tateyama\n",
      "Processing Record for: luganville\n",
      "Processing Record for: hanna\n",
      "Processing Record for: half moon bay\n",
      "Processing Record for: churapcha\n",
      "Processing Record for: kushmurun\n",
      "Processing Record for: jasper\n",
      "Processing Record for: saint george\n",
      "Processing Record for: belushya guba\n",
      "Could not find: belushya guba\n",
      "Processing Record for: mazagao\n",
      "Processing Record for: marrakesh\n",
      "Processing Record for: guaramirim\n",
      "Processing Record for: andenes\n",
      "Processing Record for: bengkulu\n",
      "Processing Record for: leningradskiy\n",
      "Processing Record for: pevek\n",
      "Processing Record for: port hardy\n",
      "Processing Record for: kommunisticheskiy\n",
      "Processing Record for: zirandaro\n",
      "Processing Record for: bam\n",
      "Processing Record for: siddhapur\n",
      "Processing Record for: yei\n",
      "Processing Record for: basco\n",
      "Processing Record for: bemidji\n",
      "Processing Record for: smyrna\n",
      "Processing Record for: nabire\n",
      "Processing Record for: saint-joseph\n",
      "Processing Record for: black river\n",
      "Processing Record for: hami\n",
      "Processing Record for: claresholm\n",
      "Processing Record for: pavagada\n",
      "Processing Record for: kindu\n",
      "Processing Record for: boulder city\n",
      "Processing Record for: maple creek\n",
      "Processing Record for: warren\n",
      "Processing Record for: russell\n",
      "Processing Record for: panaba\n",
      "Processing Record for: ranong\n",
      "Processing Record for: lasa\n",
      "Processing Record for: palauig\n",
      "Processing Record for: deltona\n",
      "Processing Record for: kloulklubed\n",
      "Processing Record for: camalu\n",
      "Processing Record for: champerico\n",
      "Processing Record for: merzifon\n",
      "Processing Record for: karratha\n",
      "Processing Record for: princeton\n",
      "Processing Record for: gobabis\n",
      "Processing Record for: hobyo\n",
      "Processing Record for: billings\n",
      "Processing Record for: akyab\n",
      "Processing Record for: ashland\n",
      "Processing Record for: severo-kurilsk\n",
      "Processing Record for: namibe\n",
      "Processing Record for: simao\n",
      "Processing Record for: lompoc\n",
      "Processing Record for: kjollefjord\n",
      "Processing Record for: mazamet\n",
      "Processing Record for: bloemfontein\n",
      "Processing Record for: sargatskoye\n",
      "Processing Record for: badvel\n",
      "Processing Record for: saint-prosper\n",
      "Processing Record for: rumonge\n",
      "Processing Record for: kampong thum\n",
      "Processing Record for: yunjinghong\n",
      "Could not find: yunjinghong\n",
      "Processing Record for: port blair\n",
      "Processing Record for: newport\n",
      "Processing Record for: new amsterdam\n",
      "Processing Record for: sarankhola\n",
      "Processing Record for: ginir\n",
      "Processing Record for: great yarmouth\n",
      "Processing Record for: kotaparh\n",
      "Processing Record for: bur gabo\n",
      "Could not find: bur gabo\n",
      "Processing Record for: torbay\n",
      "Processing Record for: guerrero negro\n",
      "Processing Record for: laguna\n",
      "Processing Record for: guanica\n",
      "Processing Record for: talara\n",
      "Processing Record for: taltal\n",
      "Processing Record for: asyut\n",
      "Processing Record for: bahile\n",
      "Processing Record for: yar-sale\n",
      "Processing Record for: wladyslawowo\n",
      "Processing Record for: wattegama\n",
      "Processing Record for: lehigh acres\n",
      "Processing Record for: saint-augustin\n",
      "Processing Record for: miandrivazo\n",
      "Processing Record for: lazaro cardenas\n",
      "Processing Record for: bulgan\n",
      "Processing Record for: kushima\n",
      "Processing Record for: kenora\n",
      "Processing Record for: olafsvik\n",
      "Processing Record for: ilulissat\n",
      "Processing Record for: tiksi\n",
      "Processing Record for: camacupa\n",
      "Processing Record for: buala\n",
      "Processing Record for: pestretsy\n",
      "Processing Record for: lagos\n",
      "Processing Record for: manzil jamil\n",
      "Could not find: manzil jamil\n",
      "Processing Record for: bereda\n",
      "Processing Record for: tunduru\n",
      "Could not find: tunduru\n",
      "Processing Record for: vanderhoof\n",
      "Processing Record for: mangrol\n",
      "Processing Record for: oussouye\n",
      "Processing Record for: mahebourg\n",
      "Processing Record for: vilnius\n",
      "Processing Record for: fabiansebestyen\n",
      "Processing Record for: yumen\n",
      "Processing Record for: isabela\n",
      "Processing Record for: qandala\n",
      "Processing Record for: eydhafushi\n",
      "Processing Record for: ilhabela\n",
      "Processing Record for: warqla\n",
      "Could not find: warqla\n",
      "Processing Record for: boa vista\n",
      "Processing Record for: novoagansk\n",
      "Processing Record for: dongsheng\n",
      "Processing Record for: ontario\n",
      "Processing Record for: lang suan\n",
      "Processing Record for: havre-saint-pierre\n",
      "Processing Record for: portland\n",
      "Processing Record for: potosi\n",
      "Processing Record for: kilinochchi\n",
      "Processing Record for: ngukurr\n",
      "Could not find: ngukurr\n",
      "Processing Record for: khonuu\n",
      "Could not find: khonuu\n",
      "Processing Record for: schrems\n",
      "Processing Record for: trindade\n",
      "Processing Record for: waitara\n",
      "Processing Record for: haines junction\n",
      "Processing Record for: paita\n",
      "Processing Record for: houma\n",
      "Processing Record for: margate\n",
      "Processing Record for: inta\n",
      "Processing Record for: namie\n",
      "Processing Record for: san angelo\n",
      "Processing Record for: nur\n",
      "Processing Record for: mareeba\n",
      "Processing Record for: souillac\n",
      "Processing Record for: northam\n",
      "Processing Record for: mogadishu\n",
      "Processing Record for: hihifo\n",
      "Could not find: hihifo\n",
      "Processing Record for: codrington\n",
      "Processing Record for: ruatoria\n",
      "Could not find: ruatoria\n",
      "Processing Record for: flin flon\n",
      "Processing Record for: thinadhoo\n",
      "Processing Record for: srednekolymsk\n",
      "Processing Record for: rio grande\n",
      "Processing Record for: hovd\n",
      "Processing Record for: huarmey\n",
      "Processing Record for: acapulco\n",
      "Processing Record for: buraydah\n",
      "Processing Record for: surgut\n",
      "Processing Record for: wenling\n",
      "Processing Record for: koubia\n",
      "Processing Record for: guasave\n",
      "Processing Record for: mehamn\n",
      "Processing Record for: jalu\n",
      "Processing Record for: nortelandia\n",
      "Processing Record for: whyalla\n",
      "Processing Record for: grand centre\n",
      "Could not find: grand centre\n",
      "Processing Record for: praia\n",
      "Processing Record for: umm kaddadah\n",
      "Processing Record for: mocambique\n",
      "Could not find: mocambique\n",
      "Processing Record for: sisophon\n",
      "Processing Record for: borba\n",
      "Processing Record for: foumban\n",
      "Processing Record for: kavalerovo\n",
      "Processing Record for: babanusah\n",
      "Could not find: babanusah\n",
      "Processing Record for: ondorhaan\n",
      "Could not find: ondorhaan\n",
      "Processing Record for: borgarnes\n",
      "Processing Record for: karatsu\n",
      "Processing Record for: bilma\n",
      "Processing Record for: khasan\n",
      "Processing Record for: klaksvik\n",
      "Processing Record for: victor harbor\n",
      "Processing Record for: chicama\n",
      "Processing Record for: auch\n",
      "Processing Record for: weihai\n",
      "Processing Record for: sisimiut\n",
      "Processing Record for: wonthaggi\n",
      "Processing Record for: makakilo city\n",
      "Processing Record for: am timan\n",
      "Processing Record for: mahibadhoo\n",
      "Processing Record for: morondava\n",
      "Processing Record for: kulhudhuffushi\n",
      "Processing Record for: key west\n",
      "Processing Record for: tsentralnyy\n",
      "Could not find: tsentralnyy\n",
      "Processing Record for: morozovsk\n",
      "Processing Record for: kaitangata\n"
     ]
    },
    {
     "name": "stdout",
     "output_type": "stream",
     "text": [
      "Processing Record for: kavaratti\n",
      "Processing Record for: that phanom\n",
      "Processing Record for: san policarpo\n",
      "Processing Record for: sangar\n",
      "Processing Record for: umm lajj\n",
      "Processing Record for: parana\n",
      "Processing Record for: puerto el triunfo\n",
      "Processing Record for: zhanaozen\n",
      "Processing Record for: oga\n",
      "Processing Record for: salo\n",
      "Processing Record for: egvekinot\n",
      "Processing Record for: phenix city\n",
      "Processing Record for: catacocha\n",
      "Processing Record for: batagay-alyta\n",
      "Processing Record for: teguldet\n",
      "Processing Record for: anderson\n",
      "Processing Record for: ocos\n",
      "Processing Record for: aykhal\n",
      "Processing Record for: richards bay\n",
      "Processing Record for: nyrob\n",
      "Processing Record for: oistins\n",
      "Processing Record for: karaul\n",
      "Could not find: karaul\n",
      "Processing Record for: ilo\n",
      "Processing Record for: lavrentiya\n",
      "Processing Record for: omboue\n",
      "Processing Record for: leh\n",
      "Processing Record for: parabel\n",
      "Processing Record for: mecca\n",
      "Processing Record for: bafq\n",
      "Processing Record for: isangel\n",
      "Processing Record for: raton\n",
      "Processing Record for: posse\n",
      "Processing Record for: kostek\n",
      "Processing Record for: minturno\n",
      "Processing Record for: amderma\n",
      "Could not find: amderma\n",
      "Processing Record for: mulchen\n",
      "Processing Record for: illapel\n",
      "Processing Record for: villa corona\n",
      "Processing Record for: hirara\n",
      "Processing Record for: ormara\n",
      "Processing Record for: tilichiki\n",
      "Processing Record for: along\n",
      "Processing Record for: attawapiskat\n",
      "Could not find: attawapiskat\n",
      "Processing Record for: iranshahr\n",
      "Processing Record for: mago\n",
      "Processing Record for: yeniseysk\n",
      "Processing Record for: asfi\n",
      "Processing Record for: tsienyane\n",
      "Could not find: tsienyane\n",
      "Processing Record for: rock sound\n",
      "Processing Record for: celestun\n",
      "Processing Record for: anju\n",
      "Processing Record for: ulladulla\n",
      "Processing Record for: kardla\n",
      "Processing Record for: iquique\n",
      "Processing Record for: tessalit\n",
      "Processing Record for: qui nhon\n",
      "Processing Record for: maragogi\n",
      "Processing Record for: klyuchi\n",
      "Processing Record for: pocinhos\n",
      "Processing Record for: mtwara\n",
      "Processing Record for: rincon\n",
      "Processing Record for: kahului\n",
      "Processing Record for: abeokuta\n",
      "Processing Record for: anadyr\n",
      "Processing Record for: antofagasta\n",
      "Processing Record for: tromso\n",
      "Processing Record for: bentiu\n",
      "Processing Record for: pacific grove\n",
      "Processing Record for: kitimat\n",
      "Processing Record for: kidal\n",
      "Processing Record for: gao\n",
      "Processing Record for: ino\n",
      "Processing Record for: broome\n",
      "Processing Record for: tumannyy\n",
      "Could not find: tumannyy\n",
      "Processing Record for: penarroya-pueblonuevo\n",
      "Processing Record for: boende\n",
      "Processing Record for: awash\n",
      "Processing Record for: tiarei\n",
      "Processing Record for: elizabeth city\n",
      "Processing Record for: erenhot\n",
      "Processing Record for: mujiayingzi\n",
      "Processing Record for: del rio\n",
      "Processing Record for: artur nogueira\n",
      "Processing Record for: kishorganj\n",
      "Processing Record for: fillan\n",
      "Processing Record for: hun\n",
      "Processing Record for: jiwani\n",
      "Processing Record for: adra\n",
      "Processing Record for: toliary\n",
      "Could not find: toliary\n",
      "Processing Record for: maunatlala\n",
      "Processing Record for: necochea\n",
      "Processing Record for: oyama\n",
      "Processing Record for: anori\n",
      "Processing Record for: meyungs\n",
      "Could not find: meyungs\n",
      "Processing Record for: tommot\n",
      "Processing Record for: dawei\n",
      "Processing Record for: zabol\n",
      "Processing Record for: chitral\n",
      "Processing Record for: ewa beach\n",
      "Processing Record for: chakulia\n",
      "Processing Record for: zvishavane\n",
      "Processing Record for: gamba\n",
      "Processing Record for: hervey bay\n",
      "Processing Record for: tomatlan\n",
      "Processing Record for: shebunino\n",
      "Processing Record for: petropavlovsk-kamchatskiy\n",
      "Processing Record for: dawson creek\n",
      "Processing Record for: tezu\n",
      "Processing Record for: ukiah\n",
      "Processing Record for: constitucion\n",
      "Processing Record for: lincoln\n",
      "Processing Record for: noyabrsk\n",
      "Processing Record for: peterhead\n",
      "Processing Record for: juneau\n",
      "Processing Record for: vaxjo\n",
      "Processing Record for: pine hills\n",
      "Processing Record for: progreso\n",
      "Processing Record for: axim\n",
      "Processing Record for: road town\n",
      "Processing Record for: bairiki\n",
      "Processing Record for: sept-iles\n",
      "Processing Record for: saint-paul\n",
      "Processing Record for: mantua\n",
      "Processing Record for: sinnamary\n",
      "Processing Record for: ngaoundere\n",
      "Processing Record for: vilhena\n",
      "Processing Record for: sao gabriel da cachoeira\n",
      "Processing Record for: riyadh\n",
      "Processing Record for: marathon\n",
      "Processing Record for: batesville\n",
      "Processing Record for: nanortalik\n",
      "Processing Record for: kiunga\n",
      "Processing Record for: shcholkine\n",
      "Could not find: shcholkine\n",
      "Processing Record for: santa maria\n"
     ]
    }
   ],
   "source": [
    "temperature = []\n",
    "latitude = []\n",
    "longitude = []\n",
    "humidity =[]\n",
    "cloudiness = []\n",
    "wind_speed = []\n",
    "all_columns = []\n",
    "\n",
    "\n",
    "\n",
    "for city in cities:\n",
    "    query_url = f\"{url}appid={weather_api_key}&q={city}&units={units}\"\n",
    "    response = requests.get(query_url).json()\n",
    "    \n",
    "    print(f\"Processing Record for: {city}\")\n",
    "    \n",
    "    try: \n",
    "    \n",
    "#         temperature.append(response['main']['temp'])\n",
    "#         latitude.append(response['coord']['lat'])\n",
    "#         humidity.append(response['main']['humidity'])\n",
    "#         cloudiness.append(response['clouds']['all'])\n",
    "#         wind_speed.append(response['wind']['speed'])\n",
    "\n",
    "        temporary = {\"name\":city,\n",
    "            \"temperature\":response['main']['temp'],\n",
    "            \"latitude\":response['coord']['lat'],\n",
    "            \"longitude\":response['coord']['lon'],\n",
    "            \"humidity\":response['main']['humidity'],\n",
    "            \"cloudiness\":response['clouds']['all'],\n",
    "            \"wind_speed\":response['wind']['speed']\n",
    "            \n",
    "        }\n",
    "        all_columns.append(temporary)\n",
    "    \n",
    "    \n",
    "    except Exception as e:\n",
    "       \n",
    "        \n",
    "        print(f\"Could not find: {city}\")\n",
    "    \n"
   ]
  },
  {
   "cell_type": "code",
   "execution_count": null,
   "metadata": {},
   "outputs": [],
   "source": []
  },
  {
   "cell_type": "code",
   "execution_count": null,
   "metadata": {
    "scrolled": true
   },
   "outputs": [],
   "source": []
  },
  {
   "cell_type": "markdown",
   "metadata": {},
   "source": [
    "### Convert Raw Data to DataFrame\n",
    "* Export the city data into a .csv.\n",
    "* Display the DataFrame"
   ]
  },
  {
   "cell_type": "code",
   "execution_count": 6,
   "metadata": {},
   "outputs": [
    {
     "data": {
      "text/html": [
       "<div>\n",
       "<style scoped>\n",
       "    .dataframe tbody tr th:only-of-type {\n",
       "        vertical-align: middle;\n",
       "    }\n",
       "\n",
       "    .dataframe tbody tr th {\n",
       "        vertical-align: top;\n",
       "    }\n",
       "\n",
       "    .dataframe thead th {\n",
       "        text-align: right;\n",
       "    }\n",
       "</style>\n",
       "<table border=\"1\" class=\"dataframe\">\n",
       "  <thead>\n",
       "    <tr style=\"text-align: right;\">\n",
       "      <th></th>\n",
       "      <th>name</th>\n",
       "      <th>temperature</th>\n",
       "      <th>latitude</th>\n",
       "      <th>longitude</th>\n",
       "      <th>humidity</th>\n",
       "      <th>cloudiness</th>\n",
       "      <th>wind_speed</th>\n",
       "    </tr>\n",
       "  </thead>\n",
       "  <tbody>\n",
       "    <tr>\n",
       "      <th>0</th>\n",
       "      <td>meulaboh</td>\n",
       "      <td>84.63</td>\n",
       "      <td>4.1363</td>\n",
       "      <td>96.1285</td>\n",
       "      <td>69</td>\n",
       "      <td>97</td>\n",
       "      <td>0.89</td>\n",
       "    </tr>\n",
       "    <tr>\n",
       "      <th>1</th>\n",
       "      <td>vacaville</td>\n",
       "      <td>49.26</td>\n",
       "      <td>38.3566</td>\n",
       "      <td>-121.9877</td>\n",
       "      <td>55</td>\n",
       "      <td>0</td>\n",
       "      <td>16.11</td>\n",
       "    </tr>\n",
       "    <tr>\n",
       "      <th>2</th>\n",
       "      <td>beloha</td>\n",
       "      <td>71.40</td>\n",
       "      <td>-25.1667</td>\n",
       "      <td>45.0500</td>\n",
       "      <td>85</td>\n",
       "      <td>88</td>\n",
       "      <td>10.33</td>\n",
       "    </tr>\n",
       "    <tr>\n",
       "      <th>3</th>\n",
       "      <td>rio gallegos</td>\n",
       "      <td>42.85</td>\n",
       "      <td>-51.6226</td>\n",
       "      <td>-69.2181</td>\n",
       "      <td>65</td>\n",
       "      <td>20</td>\n",
       "      <td>13.80</td>\n",
       "    </tr>\n",
       "    <tr>\n",
       "      <th>4</th>\n",
       "      <td>busselton</td>\n",
       "      <td>71.91</td>\n",
       "      <td>-33.6500</td>\n",
       "      <td>115.3333</td>\n",
       "      <td>39</td>\n",
       "      <td>0</td>\n",
       "      <td>8.14</td>\n",
       "    </tr>\n",
       "    <tr>\n",
       "      <th>...</th>\n",
       "      <td>...</td>\n",
       "      <td>...</td>\n",
       "      <td>...</td>\n",
       "      <td>...</td>\n",
       "      <td>...</td>\n",
       "      <td>...</td>\n",
       "      <td>...</td>\n",
       "    </tr>\n",
       "    <tr>\n",
       "      <th>553</th>\n",
       "      <td>marathon</td>\n",
       "      <td>46.17</td>\n",
       "      <td>44.9000</td>\n",
       "      <td>-89.7668</td>\n",
       "      <td>70</td>\n",
       "      <td>100</td>\n",
       "      <td>16.11</td>\n",
       "    </tr>\n",
       "    <tr>\n",
       "      <th>554</th>\n",
       "      <td>batesville</td>\n",
       "      <td>66.45</td>\n",
       "      <td>35.7698</td>\n",
       "      <td>-91.6410</td>\n",
       "      <td>88</td>\n",
       "      <td>100</td>\n",
       "      <td>11.50</td>\n",
       "    </tr>\n",
       "    <tr>\n",
       "      <th>555</th>\n",
       "      <td>nanortalik</td>\n",
       "      <td>32.11</td>\n",
       "      <td>60.1432</td>\n",
       "      <td>-45.2371</td>\n",
       "      <td>78</td>\n",
       "      <td>100</td>\n",
       "      <td>3.96</td>\n",
       "    </tr>\n",
       "    <tr>\n",
       "      <th>556</th>\n",
       "      <td>kiunga</td>\n",
       "      <td>94.60</td>\n",
       "      <td>-6.1219</td>\n",
       "      <td>141.2906</td>\n",
       "      <td>43</td>\n",
       "      <td>77</td>\n",
       "      <td>3.18</td>\n",
       "    </tr>\n",
       "    <tr>\n",
       "      <th>557</th>\n",
       "      <td>santa maria</td>\n",
       "      <td>67.30</td>\n",
       "      <td>-29.6842</td>\n",
       "      <td>-53.8069</td>\n",
       "      <td>94</td>\n",
       "      <td>20</td>\n",
       "      <td>3.44</td>\n",
       "    </tr>\n",
       "  </tbody>\n",
       "</table>\n",
       "<p>558 rows × 7 columns</p>\n",
       "</div>"
      ],
      "text/plain": [
       "             name  temperature  latitude  longitude  humidity  cloudiness  \\\n",
       "0        meulaboh        84.63    4.1363    96.1285        69          97   \n",
       "1       vacaville        49.26   38.3566  -121.9877        55           0   \n",
       "2          beloha        71.40  -25.1667    45.0500        85          88   \n",
       "3    rio gallegos        42.85  -51.6226   -69.2181        65          20   \n",
       "4       busselton        71.91  -33.6500   115.3333        39           0   \n",
       "..            ...          ...       ...        ...       ...         ...   \n",
       "553      marathon        46.17   44.9000   -89.7668        70         100   \n",
       "554    batesville        66.45   35.7698   -91.6410        88         100   \n",
       "555    nanortalik        32.11   60.1432   -45.2371        78         100   \n",
       "556        kiunga        94.60   -6.1219   141.2906        43          77   \n",
       "557   santa maria        67.30  -29.6842   -53.8069        94          20   \n",
       "\n",
       "     wind_speed  \n",
       "0          0.89  \n",
       "1         16.11  \n",
       "2         10.33  \n",
       "3         13.80  \n",
       "4          8.14  \n",
       "..          ...  \n",
       "553       16.11  \n",
       "554       11.50  \n",
       "555        3.96  \n",
       "556        3.18  \n",
       "557        3.44  \n",
       "\n",
       "[558 rows x 7 columns]"
      ]
     },
     "execution_count": 6,
     "metadata": {},
     "output_type": "execute_result"
    }
   ],
   "source": [
    "city_df = pd.DataFrame(all_columns)\n",
    "city_df"
   ]
  },
  {
   "cell_type": "code",
   "execution_count": 15,
   "metadata": {},
   "outputs": [],
   "source": [
    "city_df.to_csv(\"../Output/city.csv\", index = False)"
   ]
  },
  {
   "cell_type": "markdown",
   "metadata": {},
   "source": [
    "## Inspect the data and remove the cities where the humidity > 100%.\n",
    "----\n",
    "Skip this step if there are no cities that have humidity > 100%. "
   ]
  },
  {
   "cell_type": "code",
   "execution_count": 18,
   "metadata": {},
   "outputs": [],
   "source": [
    "# city_df = city_df.drop(city_df[city_df.humidity > 100].index)\n",
    "# city_df\n",
    "\n",
    "# none > 100"
   ]
  },
  {
   "cell_type": "code",
   "execution_count": null,
   "metadata": {},
   "outputs": [],
   "source": [
    "#  Get the indices of cities that have humidity over 100%.\n",
    "\n",
    "# none"
   ]
  },
  {
   "cell_type": "code",
   "execution_count": null,
   "metadata": {},
   "outputs": [],
   "source": [
    "# Make a new DataFrame equal to the city data to drop all humidity outliers by index.\n",
    "# Passing \"inplace=False\" will make a copy of the city_data DataFrame, which we call \"clean_city_data\".\n"
   ]
  },
  {
   "cell_type": "code",
   "execution_count": null,
   "metadata": {},
   "outputs": [],
   "source": [
    "\n"
   ]
  },
  {
   "cell_type": "markdown",
   "metadata": {},
   "source": [
    "## Plotting the Data\n",
    "* Use proper labeling of the plots using plot titles (including date of analysis) and axes labels.\n",
    "* Save the plotted figures as .pngs."
   ]
  },
  {
   "cell_type": "markdown",
   "metadata": {},
   "source": [
    "## Latitude vs. Temperature Plot"
   ]
  },
  {
   "cell_type": "code",
   "execution_count": 53,
   "metadata": {
    "scrolled": true
   },
   "outputs": [
    {
     "data": {
      "text/plain": [
       "<matplotlib.collections.PathCollection at 0x2005fc449d0>"
      ]
     },
     "execution_count": 53,
     "metadata": {},
     "output_type": "execute_result"
    },
    {
     "data": {
      "image/png": "[encoded data removed]",
      "text/plain": [
       "<Figure size 432x288 with 1 Axes>"
      ]
     },
     "metadata": {
      "needs_background": "light"
     },
     "output_type": "display_data"
    }
   ],
   "source": [
    "plt.scatter(city_df[\"latitude\"], city_df[\"temperature\"])"
   ]
  },
  {
   "cell_type": "code",
   "execution_count": null,
   "metadata": {},
   "outputs": [],
   "source": [
    "# analyzes strength of correlation between latitude coordianate and temperature of each city\n",
    "\n"
   ]
  },
  {
   "cell_type": "markdown",
   "metadata": {},
   "source": [
    "## Latitude vs. Humidity Plot"
   ]
  },
  {
   "cell_type": "code",
   "execution_count": 54,
   "metadata": {},
   "outputs": [
    {
     "data": {
      "text/plain": [
       "<matplotlib.collections.PathCollection at 0x2005fde9370>"
      ]
     },
     "execution_count": 54,
     "metadata": {},
     "output_type": "execute_result"
    },
    {
     "data": {
      "image/png": "[encoded data removed]",
      "text/plain": [
       "<Figure size 432x288 with 1 Axes>"
      ]
     },
     "metadata": {
      "needs_background": "light"
     },
     "output_type": "display_data"
    }
   ],
   "source": [
    "plt.scatter(city_df[\"latitude\"], city_df[\"humidity\"])"
   ]
  },
  {
   "cell_type": "code",
   "execution_count": null,
   "metadata": {},
   "outputs": [],
   "source": [
    "# analyzes strength of correlation between latitude coordianate and humidity of each city"
   ]
  },
  {
   "cell_type": "markdown",
   "metadata": {},
   "source": [
    "## Latitude vs. Cloudiness Plot"
   ]
  },
  {
   "cell_type": "code",
   "execution_count": 55,
   "metadata": {},
   "outputs": [
    {
     "data": {
      "text/plain": [
       "<matplotlib.collections.PathCollection at 0x2005fe5d3a0>"
      ]
     },
     "execution_count": 55,
     "metadata": {},
     "output_type": "execute_result"
    },
    {
     "data": {
      "image/png": "[encoded data removed]",
      "text/plain": [
       "<Figure size 432x288 with 1 Axes>"
      ]
     },
     "metadata": {
      "needs_background": "light"
     },
     "output_type": "display_data"
    }
   ],
   "source": [
    "plt.scatter(city_df[\"latitude\"], city_df[\"cloudiness\"])"
   ]
  },
  {
   "cell_type": "code",
   "execution_count": null,
   "metadata": {},
   "outputs": [],
   "source": [
    "# analyzes strength of correlation between latitude coordianate and cloudiness of each city"
   ]
  },
  {
   "cell_type": "markdown",
   "metadata": {},
   "source": [
    "## Latitude vs. Wind Speed Plot"
   ]
  },
  {
   "cell_type": "code",
   "execution_count": 56,
   "metadata": {},
   "outputs": [
    {
     "data": {
      "text/plain": [
       "<matplotlib.collections.PathCollection at 0x2005feb7760>"
      ]
     },
     "execution_count": 56,
     "metadata": {},
     "output_type": "execute_result"
    },
    {
     "data": {
      "image/png": "[encoded data removed]",
      "text/plain": [
       "<Figure size 432x288 with 1 Axes>"
      ]
     },
     "metadata": {
      "needs_background": "light"
     },
     "output_type": "display_data"
    }
   ],
   "source": [
    "plt.scatter(city_df[\"latitude\"], city_df[\"wind_speed\"])"
   ]
  },
  {
   "cell_type": "code",
   "execution_count": null,
   "metadata": {},
   "outputs": [],
   "source": [
    "# analyzes strength of correlation between latitude coordianate and wind speed of each city"
   ]
  },
  {
   "cell_type": "markdown",
   "metadata": {},
   "source": [
    "## Linear Regression"
   ]
  },
  {
   "cell_type": "code",
   "execution_count": 7,
   "metadata": {},
   "outputs": [],
   "source": [
    "north_df = city_df.loc[city_df['latitude'] >= 0]\n",
    "south_df = city_df.loc[city_df['latitude'] < 0]\n",
    "\n"
   ]
  },
  {
   "cell_type": "markdown",
   "metadata": {},
   "source": [
    "####  Northern Hemisphere - Max Temp vs. Latitude Linear Regression"
   ]
  },
  {
   "cell_type": "code",
   "execution_count": 8,
   "metadata": {},
   "outputs": [
    {
     "name": "stdout",
     "output_type": "stream",
     "text": [
      "The r-value is: 0.798730491222856\n",
      "The p-value is: 3.4889298466745905e-138\n"
     ]
    },
    {
     "data": {
      "image/png": "[encoded data removed]",
      "text/plain": [
       "<Figure size 432x288 with 1 Axes>"
      ]
     },
     "metadata": {
      "needs_background": "light"
     },
     "output_type": "display_data"
    }
   ],
   "source": [
    "x_values = north_df['latitude']\n",
    "y_values = north_df['temperature']\n",
    "\n",
    "(slope, intercept, rvalue, pvalue, stderr) = linregress(x_values, y_values)\n",
    "\n",
    "regress_values = x_values * slope + intercept\n",
    "line_eq = \"y = \" + str(round(slope,2)) + \"x +\" + str(round(intercept,2))\n",
    "\n",
    "# Create Plot\n",
    "plt.scatter(x_values,y_values)\n",
    "plt.plot(x_values,regress_values,\"r-\")\n",
    "\n",
    "# Label plot and annotate the line equation\n",
    "plt.xlabel('Latitude')\n",
    "plt.ylabel('Temperature')\n",
    "plt.annotate(line_eq,(3,13),fontsize=15,color=\"red\")\n",
    "\n",
    "# Print r value\n",
    "print(f\"The r-value is: {rvalue**2}\")\n",
    "print(f\"The p-value is: {pvalue}\")\n",
    "\n",
    "# Show plot\n",
    "plt.show()"
   ]
  },
  {
   "cell_type": "code",
   "execution_count": null,
   "metadata": {},
   "outputs": [],
   "source": [
    "# shows a strong relationship between temp and latitude with an r^2 value of 0.8. The low p-value gives us confidence in that if sampled again we could expect a similar outcome. "
   ]
  },
  {
   "cell_type": "markdown",
   "metadata": {},
   "source": [
    "####  Southern Hemisphere - Max Temp vs. Latitude Linear Regression"
   ]
  },
  {
   "cell_type": "code",
   "execution_count": 9,
   "metadata": {},
   "outputs": [
    {
     "name": "stdout",
     "output_type": "stream",
     "text": [
      "The r-value is: 0.3407283660753414\n",
      "The p-value is: 1.8957038221294983e-16\n"
     ]
    },
    {
     "data": {
      "image/png": "[encoded data removed]",
      "text/plain": [
       "<Figure size 432x288 with 1 Axes>"
      ]
     },
     "metadata": {
      "needs_background": "light"
     },
     "output_type": "display_data"
    }
   ],
   "source": [
    "x_values = south_df['latitude']\n",
    "y_values = south_df['temperature']\n",
    "\n",
    "(slope, intercept, rvalue, pvalue, stderr) = linregress(x_values, y_values)\n",
    "\n",
    "regress_values = x_values * slope + intercept\n",
    "line_eq = \"y = \" + str(round(slope,2)) + \"x +\" + str(round(intercept,2))\n",
    "\n",
    "# Create Plot\n",
    "plt.scatter(x_values,y_values)\n",
    "plt.plot(x_values,regress_values,\"r-\")\n",
    "\n",
    "# Label plot and annotate the line equation\n",
    "plt.xlabel('Latitude')\n",
    "plt.ylabel('Temperature')\n",
    "plt.annotate(line_eq,(5,15),fontsize=15,color=\"red\")\n",
    "\n",
    "# Print r value\n",
    "print(f\"The r-value is: {rvalue**2}\")\n",
    "print(f\"The p-value is: {pvalue}\")\n",
    "\n",
    "# Show plot\n",
    "plt.show()"
   ]
  },
  {
   "cell_type": "code",
   "execution_count": null,
   "metadata": {},
   "outputs": [],
   "source": [
    "# shows a strong relationship between temp and latitude with an r^2 value of 0.8. The low p-value gives us confidence in that if sampled again we could expect a similar outcome."
   ]
  },
  {
   "cell_type": "markdown",
   "metadata": {},
   "source": [
    "####  Northern Hemisphere - Humidity (%) vs. Latitude Linear Regression"
   ]
  },
  {
   "cell_type": "code",
   "execution_count": 10,
   "metadata": {},
   "outputs": [
    {
     "name": "stdout",
     "output_type": "stream",
     "text": [
      "The r-value is: 0.05682239877045115\n",
      "The p-value is: 1.7563517406588818e-06\n"
     ]
    },
    {
     "data": {
      "image/png": "[encoded data removed]",
      "text/plain": [
       "<Figure size 432x288 with 1 Axes>"
      ]
     },
     "metadata": {
      "needs_background": "light"
     },
     "output_type": "display_data"
    }
   ],
   "source": [
    "x_values = north_df['latitude']\n",
    "y_values = north_df['humidity']\n",
    "\n",
    "(slope, intercept, rvalue, pvalue, stderr) = linregress(x_values, y_values)\n",
    "\n",
    "regress_values = x_values * slope + intercept\n",
    "line_eq = \"y = \" + str(round(slope,2)) + \"x +\" + str(round(intercept,2))\n",
    "\n",
    "# Create Plot\n",
    "plt.scatter(x_values,y_values)\n",
    "plt.plot(x_values,regress_values,\"r-\")\n",
    "\n",
    "# Label plot and annotate the line equation\n",
    "plt.xlabel('Latitude')\n",
    "plt.ylabel('Humidity')\n",
    "plt.annotate(line_eq,(5,15),fontsize=15,color=\"red\")\n",
    "\n",
    "# Print r value\n",
    "print(f\"The r-value is: {rvalue**2}\")\n",
    "print(f\"The p-value is: {pvalue}\")\n",
    "\n",
    "# Show plot\n",
    "plt.show()"
   ]
  },
  {
   "cell_type": "code",
   "execution_count": null,
   "metadata": {},
   "outputs": [],
   "source": [
    "# shows a weak relationship between humidity and latitude with an r^2 value of just 0.02."
   ]
  },
  {
   "cell_type": "markdown",
   "metadata": {},
   "source": [
    "####  Southern Hemisphere - Humidity (%) vs. Latitude Linear Regression"
   ]
  },
  {
   "cell_type": "code",
   "execution_count": 91,
   "metadata": {},
   "outputs": [
    {
     "name": "stdout",
     "output_type": "stream",
     "text": [
      "The r-value is: 0.14171436541046417\n",
      "The p-value is: 2.416045698450375e-07\n"
     ]
    },
    {
     "data": {
      "image/png": "[encoded data removed]",
      "text/plain": [
       "<Figure size 432x288 with 1 Axes>"
      ]
     },
     "metadata": {
      "needs_background": "light"
     },
     "output_type": "display_data"
    }
   ],
   "source": [
    "x_values = south_df['latitude']\n",
    "y_values = south_df['humidity']\n",
    "\n",
    "(slope, intercept, rvalue, pvalue, stderr) = linregress(x_values, y_values)\n",
    "\n",
    "regress_values = x_values * slope + intercept\n",
    "line_eq = \"y = \" + str(round(slope,2)) + \"x +\" + str(round(intercept,2))\n",
    "\n",
    "# Create Plot\n",
    "plt.scatter(x_values,y_values)\n",
    "plt.plot(x_values,regress_values,\"r-\")\n",
    "\n",
    "# Label plot and annotate the line equation\n",
    "plt.xlabel('Latitude')\n",
    "plt.ylabel('Humidity')\n",
    "plt.annotate(line_eq,(-30,35),fontsize=15,color=\"red\")\n",
    "\n",
    "# Print r value\n",
    "print(f\"The r-value is: {rvalue**2}\")\n",
    "print(f\"The p-value is: {pvalue}\")\n",
    "\n",
    "# Show plot\n",
    "plt.show()"
   ]
  },
  {
   "cell_type": "code",
   "execution_count": null,
   "metadata": {},
   "outputs": [],
   "source": [
    "# shows a weak relationship between humidity and latitude with an r^2 value of just 0.14."
   ]
  },
  {
   "cell_type": "markdown",
   "metadata": {},
   "source": [
    "####  Northern Hemisphere - Cloudiness (%) vs. Latitude Linear Regression"
   ]
  },
  {
   "cell_type": "code",
   "execution_count": 11,
   "metadata": {},
   "outputs": [
    {
     "name": "stdout",
     "output_type": "stream",
     "text": [
      "The r-value is: 0.028276281362679706\n",
      "The p-value is: 0.0008175106918198496\n"
     ]
    },
    {
     "data": {
      "image/png": "[encoded data removed]",
      "text/plain": [
       "<Figure size 432x288 with 1 Axes>"
      ]
     },
     "metadata": {
      "needs_background": "light"
     },
     "output_type": "display_data"
    }
   ],
   "source": [
    "x_values = north_df['latitude']\n",
    "y_values = north_df['cloudiness']\n",
    "\n",
    "(slope, intercept, rvalue, pvalue, stderr) = linregress(x_values, y_values)\n",
    "\n",
    "regress_values = x_values * slope + intercept\n",
    "line_eq = \"y = \" + str(round(slope,2)) + \"x +\" + str(round(intercept,2))\n",
    "\n",
    "# Create Plot\n",
    "plt.scatter(x_values,y_values)\n",
    "plt.plot(x_values,regress_values,\"r-\")\n",
    "\n",
    "# Label plot and annotate the line equation\n",
    "plt.xlabel('Latitude')\n",
    "plt.ylabel('Cloudiness')\n",
    "plt.annotate(line_eq,(5,15),fontsize=15,color=\"red\")\n",
    "\n",
    "# Print r value\n",
    "print(f\"The r-value is: {rvalue**2}\")\n",
    "print(f\"The p-value is: {pvalue}\")\n",
    "\n",
    "# Show plot\n",
    "plt.show()"
   ]
  },
  {
   "cell_type": "code",
   "execution_count": null,
   "metadata": {},
   "outputs": [],
   "source": [
    "# shows a near-zero relationship between cloudiness and latitude with an r^2 value of just 0.03."
   ]
  },
  {
   "cell_type": "markdown",
   "metadata": {},
   "source": [
    "####  Southern Hemisphere - Cloudiness (%) vs. Latitude Linear Regression"
   ]
  },
  {
   "cell_type": "code",
   "execution_count": 12,
   "metadata": {},
   "outputs": [
    {
     "name": "stdout",
     "output_type": "stream",
     "text": [
      "The r-value is: 0.08658088738245243\n",
      "The p-value is: 0.00012494904332580053\n"
     ]
    },
    {
     "data": {
      "image/png": "[encoded data removed]",
      "text/plain": [
       "<Figure size 432x288 with 1 Axes>"
      ]
     },
     "metadata": {
      "needs_background": "light"
     },
     "output_type": "display_data"
    }
   ],
   "source": [
    "x_values = south_df['latitude']\n",
    "y_values = south_df['cloudiness']\n",
    "\n",
    "(slope, intercept, rvalue, pvalue, stderr) = linregress(x_values, y_values)\n",
    "\n",
    "regress_values = x_values * slope + intercept\n",
    "line_eq = \"y = \" + str(round(slope,2)) + \"x +\" + str(round(intercept,2))\n",
    "\n",
    "# Create Plot\n",
    "plt.scatter(x_values,y_values)\n",
    "plt.plot(x_values,regress_values,\"r-\")\n",
    "\n",
    "# Label plot and annotate the line equation\n",
    "plt.xlabel('Latitude')\n",
    "plt.ylabel('Cloudiness')\n",
    "plt.annotate(line_eq,(-57,54),fontsize=15,color=\"red\")\n",
    "\n",
    "# Print r value\n",
    "print(f\"The r-value is: {rvalue**2}\")\n",
    "print(f\"The p-value is: {pvalue}\")\n",
    "\n",
    "# Show plot\n",
    "plt.show()"
   ]
  },
  {
   "cell_type": "code",
   "execution_count": null,
   "metadata": {},
   "outputs": [],
   "source": [
    "# shows a weak relationship between cloudiness and latitude with an r^2 value of just 0.09."
   ]
  },
  {
   "cell_type": "markdown",
   "metadata": {},
   "source": [
    "####  Northern Hemisphere - Wind Speed (mph) vs. Latitude Linear Regression"
   ]
  },
  {
   "cell_type": "code",
   "execution_count": 13,
   "metadata": {},
   "outputs": [
    {
     "name": "stdout",
     "output_type": "stream",
     "text": [
      "The r-value is: 0.0006978426907897228\n",
      "The p-value is: 0.6015910170841464\n"
     ]
    },
    {
     "data": {
      "image/png": "[encoded data removed]",
      "text/plain": [
       "<Figure size 432x288 with 1 Axes>"
      ]
     },
     "metadata": {
      "needs_background": "light"
     },
     "output_type": "display_data"
    }
   ],
   "source": [
    "x_values = north_df['latitude']\n",
    "y_values = north_df['wind_speed']\n",
    "\n",
    "(slope, intercept, rvalue, pvalue, stderr) = linregress(x_values, y_values)\n",
    "\n",
    "regress_values = x_values * slope + intercept\n",
    "line_eq = \"y = \" + str(round(slope,2)) + \"x +\" + str(round(intercept,2))\n",
    "\n",
    "# Create Plot\n",
    "plt.scatter(x_values,y_values)\n",
    "plt.plot(x_values,regress_values,\"r-\")\n",
    "\n",
    "# Label plot and annotate the line equation\n",
    "plt.xlabel('Latitude')\n",
    "plt.ylabel('Wind Speed')\n",
    "plt.annotate(line_eq,(2,30),fontsize=15,color=\"red\")\n",
    "\n",
    "# Print r value\n",
    "print(f\"The r-value is: {rvalue**2}\")\n",
    "print(f\"The p-value is: {pvalue}\")\n",
    "\n",
    "# Show plot\n",
    "plt.show()"
   ]
  },
  {
   "cell_type": "code",
   "execution_count": null,
   "metadata": {},
   "outputs": [],
   "source": [
    "# shows a near-zero relationship between wind speed and latitude with an r^2 value of just 0.0004."
   ]
  },
  {
   "cell_type": "markdown",
   "metadata": {},
   "source": [
    "####  Southern Hemisphere - Wind Speed (mph) vs. Latitude Linear Regression"
   ]
  },
  {
   "cell_type": "code",
   "execution_count": 14,
   "metadata": {},
   "outputs": [
    {
     "name": "stdout",
     "output_type": "stream",
     "text": [
      "The r-value is: 0.08039673622371003\n",
      "The p-value is: 0.00022379352608117587\n"
     ]
    },
    {
     "data": {
      "image/png": "[encoded data removed]",
      "text/plain": [
       "<Figure size 432x288 with 1 Axes>"
      ]
     },
     "metadata": {
      "needs_background": "light"
     },
     "output_type": "display_data"
    }
   ],
   "source": [
    "x_values = south_df['latitude']\n",
    "y_values = south_df['wind_speed']\n",
    "\n",
    "(slope, intercept, rvalue, pvalue, stderr) = linregress(x_values, y_values)\n",
    "\n",
    "regress_values = x_values * slope + intercept\n",
    "line_eq = \"y = \" + str(round(slope,2)) + \"x +\" + str(round(intercept,2))\n",
    "\n",
    "# Create Plot\n",
    "plt.scatter(x_values,y_values)\n",
    "plt.plot(x_values,regress_values,\"r-\")\n",
    "\n",
    "# Label plot and annotate the line equation\n",
    "plt.xlabel('Latitude')\n",
    "plt.ylabel('Wind Speed')\n",
    "plt.annotate(line_eq,(-35,30),fontsize=15,color=\"red\")\n",
    "\n",
    "# Print r value\n",
    "print(f\"The r-value is: {rvalue**2}\")\n",
    "print(f\"The p-value is: {pvalue}\")\n",
    "\n",
    "# Show plot\n",
    "plt.show()"
   ]
  },
  {
   "cell_type": "code",
   "execution_count": null,
   "metadata": {},
   "outputs": [],
   "source": [
    "# shows a weak relationship between wind_speed and latitude with an r^2 value of just 0.08."
   ]
  },
  {
   "cell_type": "code",
   "execution_count": null,
   "metadata": {},
   "outputs": [],
   "source": []
  }
 ],
 "metadata": {
  "anaconda-cloud": {},
  "kernel_info": {
   "name": "python3"
  },
  "kernelspec": {
   "display_name": "Python 3",
   "language": "python",
   "name": "python3"
  },
  "language_info": {
   "codemirror_mode": {
    "name": "ipython",
    "version": 3
   },
   "file_extension": ".py",
   "mimetype": "text/x-python",
   "name": "python",
   "nbconvert_exporter": "python",
   "pygments_lexer": "ipython3",
   "version": "3.8.8"
  },
  "latex_envs": {
   "LaTeX_envs_menu_present": true,
   "autoclose": false,
   "autocomplete": true,
   "bibliofile": "biblio.bib",
   "cite_by": "apalike",
   "current_citInitial": 1,
   "eqLabelWithNumbers": true,
   "eqNumInitial": 1,
   "hotkeys": {
    "equation": "Ctrl-E",
    "itemize": "Ctrl-I"
   },
   "labels_anchors": false,
   "latex_user_defs": false,
   "report_style_numbering": false,
   "user_envs_cfg": false
  },
  "nteract": {
   "version": "0.12.3"
  }
 },
 "nbformat": 4,
 "nbformat_minor": 2
}
